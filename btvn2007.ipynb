{
 "cells": [
  {
   "cell_type": "code",
   "execution_count": 6,
   "id": "baa8e1de",
   "metadata": {},
   "outputs": [
    {
     "name": "stdout",
     "output_type": "stream",
     "text": [
      "xa: 7\n",
      "ya: -3\n",
      "xb: 8\n",
      "yb: 4\n",
      "xc: 1\n",
      "yc: 5\n",
      "xd: 0\n",
      "yc: -2\n",
      "Đây là tam giác lồi\n"
     ]
    }
   ],
   "source": [
    "#Cho 4 điểm, xác định tứ giác lòi hoặc lõm sau đó vẽ tứ giác lên Turtle\n",
    "\n",
    "#Input\n",
    "import math\n",
    "import turtle\n",
    "\n",
    "#Lấy dữ liệu\n",
    "xa = int(input(\"xa: \"))\n",
    "ya = int(input(\"ya: \"))\n",
    "xb = int(input(\"xb: \"))\n",
    "yb = int(input(\"yb: \"))\n",
    "xc = int(input(\"xc: \"))\n",
    "yc = int(input(\"yc: \"))\n",
    "xd = int(input(\"xd: \"))\n",
    "yd = int(input(\"yc: \"))\n",
    "\n",
    "#Tính độ dài các cạnh\n",
    "AB = BA = math.sqrt((xb-xa)**2 + (yb-ya)**2)\n",
    "BC = CB = math.sqrt((xc-xa)**2 + (yc-ya)**2)\n",
    "CD = DC = math.sqrt((xd-xc)**2 + (yd-yc)**2)\n",
    "AD = DA = math.sqrt((xd-xa)**2 + (yd-ya)**2)\n",
    "BD = DB = math.sqrt((xd-xb)**2 + (yd-yb)**2)\n",
    "AC = CA = math.sqrt((xc-xa)**2 + (yc-ya)**2)\n",
    "\n",
    "#Tính các góc - cos(x)\n",
    "cosA = ((AB**2 + AD**2 - BD**2)/(2 * AB * AC))\n",
    "cosB = ((BA**2 + BC**2 - AC**2)/(2 * BA * BC))\n",
    "cosC = ((CB**2 + CD**2 - BD**2)/(2 * CB * CD))\n",
    "cosD = ((DA**2 + DC**2 - AC**2)/(2 * DA * DC))\n",
    "\n",
    "#Xử lí các góc\n",
    "gA = math.degrees(math.acos(cosA))\n",
    "gB = math.degrees(math.acos(cosB))\n",
    "gC = math.degrees(math.acos(cosC))\n",
    "gD = math.degrees(math.acos(cosD))\n",
    "\n",
    "#Xét điều kiện, nếu có 1 trong 4 góc lớn hơn 180 thì là tứ giác lõm, còn không là tứ giác lồi\n",
    "if gA > 180 or gB > 180 or gC > 180 or gD > 180:\n",
    "    print(\"Đây là tam giác lõm\")\n",
    "else:\n",
    "    print(\"Đây là tam giác lồi\")\n",
    "\n",
    "#Vẽ tứ giác trên Turtle\n",
    "t=turtle.Turtle()\n",
    "t.penup()\n",
    "t.goto(xa, ya)\n",
    "t.pendown()\n",
    "t.goto(xb, yb)\n",
    "t.goto(xc, yc)\n",
    "t.goto(xd, yd)\n",
    "t.goto(xa, ya)\n",
    "turtle.done()"
   ]
  },
  {
   "cell_type": "markdown",
   "id": "b5e57264",
   "metadata": {},
   "source": [
    "# "
   ]
  },
  {
   "cell_type": "code",
   "execution_count": null,
   "id": "ca87cc1e",
   "metadata": {},
   "outputs": [],
   "source": []
  }
 ],
 "metadata": {
  "kernelspec": {
   "display_name": "Python 3 (ipykernel)",
   "language": "python",
   "name": "python3"
  },
  "language_info": {
   "codemirror_mode": {
    "name": "ipython",
    "version": 3
   },
   "file_extension": ".py",
   "mimetype": "text/x-python",
   "name": "python",
   "nbconvert_exporter": "python",
   "pygments_lexer": "ipython3",
   "version": "3.9.12"
  }
 },
 "nbformat": 4,
 "nbformat_minor": 5
}
